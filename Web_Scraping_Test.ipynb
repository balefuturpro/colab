{
  "nbformat": 4,
  "nbformat_minor": 0,
  "metadata": {
    "colab": {
      "name": "Web_Scraping_Test.ipynb",
      "provenance": [],
      "collapsed_sections": [],
      "authorship_tag": "ABX9TyPnF7CO/x8HlKEqJt3O9j9i",
      "include_colab_link": true
    },
    "kernelspec": {
      "name": "python3",
      "display_name": "Python 3"
    },
    "language_info": {
      "name": "python"
    }
  },
  "cells": [
    {
      "cell_type": "markdown",
      "metadata": {
        "id": "view-in-github",
        "colab_type": "text"
      },
      "source": [
        "<a href=\"https://colab.research.google.com/github/balefuturpro/colab/blob/main/Web_Scraping_Test.ipynb\" target=\"_parent\"><img src=\"https://colab.research.google.com/assets/colab-badge.svg\" alt=\"Open In Colab\"/></a>"
      ]
    },
    {
      "cell_type": "code",
      "metadata": {
        "colab": {
          "base_uri": "https://localhost:8080/"
        },
        "id": "6NweaStrLbPe",
        "outputId": "2a3097f8-edcc-4ae8-ac0c-9cbec4f566d2"
      },
      "source": [
        "import pandas as pd\n",
        "!pip install selenium\n",
        "from selenium import webdriver\n",
        "print('ok')\n",
        "!apt install chromium-chromedriver\n",
        "print('ok....')\n",
        "!cp /usr/lib/chromium-browser/chromedriver /usr/bin\n",
        "print('ok')\n",
        "from selenium.webdriver.chrome.options import Options\n",
        "print('ok....')\n",
        "from selenium.webdriver import Chrome\n",
        "#import time\n",
        "print('ok....')\n",
        "\n"
      ],
      "execution_count": null,
      "outputs": [
        {
          "output_type": "stream",
          "text": [
            "Requirement already satisfied: selenium in /usr/local/lib/python3.7/dist-packages (3.141.0)\n",
            "Requirement already satisfied: urllib3 in /usr/local/lib/python3.7/dist-packages (from selenium) (1.24.3)\n",
            "ok\n",
            "Reading package lists... Done\n",
            "Building dependency tree       \n",
            "Reading state information... Done\n",
            "chromium-chromedriver is already the newest version (90.0.4430.72-0ubuntu0.18.04.1).\n",
            "The following package was automatically installed and is no longer required:\n",
            "  libnvidia-common-460\n",
            "Use 'apt autoremove' to remove it.\n",
            "0 upgraded, 0 newly installed, 0 to remove and 34 not upgraded.\n",
            "ok....\n",
            "cp: '/usr/lib/chromium-browser/chromedriver' and '/usr/bin/chromedriver' are the same file\n",
            "ok\n",
            "ok....\n",
            "ok....\n"
          ],
          "name": "stdout"
        }
      ]
    },
    {
      "cell_type": "markdown",
      "metadata": {
        "id": "R7LCWoxgQLq_"
      },
      "source": [
        "Apres importation des modules"
      ]
    },
    {
      "cell_type": "code",
      "metadata": {
        "colab": {
          "base_uri": "https://localhost:8080/"
        },
        "id": "FEcuvJG5QW45",
        "outputId": "ba9fa4a4-9909-4081-b7dc-e8339e8d6a33"
      },
      "source": [
        "from selenium import webdriver\n",
        "import pandas as pd\n",
        "print('ok...')\n",
        "options=webdriver.ChromeOptions()\n",
        "print('ok')\n",
        "options.add_argument('-headless')\n",
        "print('ok')\n",
        "options.add_argument('-no-sandbox')\n",
        "print('ok')\n",
        "options.add_argument('-disable-dev-shm-usage')\n",
        "print('ok')\n",
        "chrome_options = Options()\n",
        "print('ok...')\n",
        "chrome_options.add_argument(\" - incognito\")\n",
        "print('ok...')\n",
        "browser = webdriver.Chrome('chromedriver', options=options)\n",
        "print('ok')\n",
        "browser.get('http://books.toscrape.com/catalogue/page-1.html')\n",
        "print('ok..')\n",
        "pages=40\n",
        "url = 'http://books.toscrape.com/catalogue/page-1.html'\n",
        "print('ok...')\n",
        "def getdata(start_url,pgs):\n",
        "    current=0\n",
        "    urls=browser.get(start_url)\n",
        "    data={}\n",
        "    df=pd.DataFrame(columns=['Title','Price','Stock'])\n",
        "    #dictionary = {'One':1, 'Two':2, 'Three':3, 'Four':4, 'Five':5}\n",
        "    while current<pages:\n",
        "        books = browser.find_elements_by_css_selector('ol.row')\n",
        "        for book in books:\n",
        "            for b in book.find_elements_by_css_selector('article.product_pod'):\n",
        "                data['Title'] = b.find_elements_by_css_selector('img')[0].get_attribute('alt')\n",
        "                data['Price'] = b.find_elements_by_css_selector('div.product_price p.price_color')[0].text\n",
        "                data['Stock'] = b.find_elements_by_css_selector('div.product_price p.instock.availability')[0].text\n",
        "                #data['Star']  = b.find_elements_by_css_selector('p')[0].get_attribute('class').split()[-1]\n",
        "                #data['Star']  = [v for k, v in dictionary.items() if k in data['Star']][0]\n",
        "                df=df.append(data, ignore_index=True)\n",
        "                #df=df.to_csv('test.csv')\n",
        "        #next = browser.find_elements_by_css_selector('li.next a')[0].click()\n",
        "        current+=1\n",
        "        #df.index +=1\n",
        "    return df\n",
        "    print(df)\n",
        "output=getdata(url,pages)\n",
        "output.to_csv('test.csv')\n",
        "print(output)\n"
      ],
      "execution_count": null,
      "outputs": [
        {
          "output_type": "stream",
          "text": [
            "ok...\n",
            "ok\n",
            "ok\n",
            "ok\n",
            "ok\n",
            "ok...\n",
            "ok...\n",
            "ok\n",
            "ok..\n",
            "ok...\n",
            "                                                 Title   Price     Stock\n",
            "0                                 A Light in the Attic  £51.77  In stock\n",
            "1                                   Tipping the Velvet  £53.74  In stock\n",
            "2                                           Soumission  £50.10  In stock\n",
            "3                                        Sharp Objects  £47.82  In stock\n",
            "4                Sapiens: A Brief History of Humankind  £54.23  In stock\n",
            "..                                                 ...     ...       ...\n",
            "795  Our Band Could Be Your Life: Scenes from the A...  £57.25  In stock\n",
            "796                                               Olio  £23.88  In stock\n",
            "797  Mesaerion: The Best Science Fiction Stories 18...  £37.59  In stock\n",
            "798                       Libertarianism for Beginners  £51.33  In stock\n",
            "799                            It's Only the Himalayas  £45.17  In stock\n",
            "\n",
            "[800 rows x 3 columns]\n"
          ],
          "name": "stdout"
        }
      ]
    }
  ]
}